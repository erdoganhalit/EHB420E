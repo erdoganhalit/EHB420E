{
 "cells": [
  {
   "cell_type": "code",
   "execution_count": 2,
   "id": "5e3c18d4",
   "metadata": {},
   "outputs": [],
   "source": [
    "import json\n",
    "import random\n",
    "\n",
    "f = open(r\"C:\\Users\\halit.erdogan\\PycharmProjects\\DeepFake Audio\\FULL_spects_and_labels_db_mfcc.json\")\n",
    "dataraw = json.load(f)\n",
    "random.shuffle(dataraw)"
   ]
  },
  {
   "cell_type": "code",
   "execution_count": 3,
   "id": "ef96975b",
   "metadata": {},
   "outputs": [
    {
     "data": {
      "text/plain": [
       "array([[-7.22728724e+02, -7.18498591e+02, -7.20210836e+02, ...,\n",
       "        -6.47252351e+02, -6.54325733e+02, -6.61512743e+02],\n",
       "       [-4.82897105e+00, -3.19603530e+00, -8.41703398e+00, ...,\n",
       "         3.16204196e-01, -1.58317709e+00, -6.07381599e+00],\n",
       "       [ 3.81184754e+00,  3.53124750e-01, -6.43680930e+00, ...,\n",
       "        -5.03357545e+01, -4.87299600e+01, -4.09121954e+01],\n",
       "       ...,\n",
       "       [-7.88315831e+00, -4.69052363e+00, -1.18559030e+00, ...,\n",
       "        -6.68900509e+00,  4.02944934e+00,  1.12902710e+00],\n",
       "       [-1.73937562e+00, -4.71339923e+00, -1.44640826e+00, ...,\n",
       "        -2.37100512e+00,  4.94800256e+00,  7.81669274e+00],\n",
       "       [ 3.76736732e+00, -1.86359691e+00, -2.53884625e+00, ...,\n",
       "        -1.81665155e+01, -1.31938996e+01, -7.04613290e+00]])"
      ]
     },
     "execution_count": 3,
     "metadata": {},
     "output_type": "execute_result"
    }
   ],
   "source": [
    "import numpy as np\n",
    "from sklearn.preprocessing import StandardScaler\n",
    "\n",
    "scaler = StandardScaler()\n",
    "\n",
    "sample = dataraw[5]\n",
    "spec = np.asarray(sample[\"mel\"])\n",
    "spec"
   ]
  },
  {
   "cell_type": "code",
   "execution_count": 4,
   "id": "4a8bdff9",
   "metadata": {},
   "outputs": [
    {
     "data": {
      "text/plain": [
       "(20, 938)"
      ]
     },
     "execution_count": 4,
     "metadata": {},
     "output_type": "execute_result"
    }
   ],
   "source": [
    "spec.shape"
   ]
  },
  {
   "cell_type": "code",
   "execution_count": 5,
   "id": "0a8dd425",
   "metadata": {},
   "outputs": [
    {
     "data": {
      "text/plain": [
       "array([[-5.07715685, -5.04622487, -5.05874531, ..., -4.52525136,\n",
       "        -4.57697402, -4.62952755],\n",
       "       [ 0.17233777,  0.18427828,  0.1461008 , ...,  0.20996081,\n",
       "         0.19607197,  0.1632351 ],\n",
       "       [ 0.23552198,  0.21023078,  0.16058078, ..., -0.16042125,\n",
       "        -0.1486792 , -0.0915134 ],\n",
       "       ...,\n",
       "       [ 0.15000465,  0.17335014,  0.19897924, ...,  0.15873665,\n",
       "         0.23711315,  0.21590441],\n",
       "       [ 0.1949298 ,  0.17318286,  0.19707207, ...,  0.19031114,\n",
       "         0.24382988,  0.26480659],\n",
       "       [ 0.23519673,  0.19402146,  0.18908384, ...,  0.07480971,\n",
       "         0.11117095,  0.15612523]])"
      ]
     },
     "execution_count": 5,
     "metadata": {},
     "output_type": "execute_result"
    }
   ],
   "source": [
    "spec_formula = (spec - spec.mean()) / spec.std() #Z-normalization\n",
    "spec_formula"
   ]
  },
  {
   "cell_type": "code",
   "execution_count": 7,
   "id": "993412ca",
   "metadata": {},
   "outputs": [],
   "source": [
    "X = []\n",
    "y = []\n",
    "for sample in dataraw:\n",
    "    specTemp = sample[\"mel\"]\n",
    "    labelTemp = sample[\"label\"]\n",
    "    specTemp = np.asarray(specTemp)\n",
    "    X.append(specTemp)\n",
    "    y.append(labelTemp)"
   ]
  },
  {
   "cell_type": "code",
   "execution_count": 8,
   "id": "195113c9",
   "metadata": {},
   "outputs": [],
   "source": [
    "X = np.asarray(X)"
   ]
  },
  {
   "cell_type": "code",
   "execution_count": 9,
   "id": "1d9679f5",
   "metadata": {},
   "outputs": [
    {
     "data": {
      "text/plain": [
       "(830, 20, 938, 1)"
      ]
     },
     "execution_count": 9,
     "metadata": {},
     "output_type": "execute_result"
    }
   ],
   "source": [
    "X = np.expand_dims(X,axis=-1)\n",
    "X.shape"
   ]
  },
  {
   "cell_type": "code",
   "execution_count": 10,
   "id": "d9bbcf1b",
   "metadata": {},
   "outputs": [],
   "source": [
    "l = []\n",
    "for i in y:\n",
    "    if i == 'FakeClips':\n",
    "        i=0\n",
    "        l.append(i)\n",
    "    elif i == 'RealClips':\n",
    "        i=1\n",
    "        l.append(i)\n",
    "    else:\n",
    "        print(\"anan\")"
   ]
  },
  {
   "cell_type": "code",
   "execution_count": 11,
   "id": "3e2a75f4",
   "metadata": {},
   "outputs": [],
   "source": [
    "y = l"
   ]
  },
  {
   "cell_type": "code",
   "execution_count": 12,
   "id": "f9f13528",
   "metadata": {},
   "outputs": [],
   "source": [
    "from sklearn.model_selection import train_test_split\n",
    "X_train, X_test, y_train, y_test = train_test_split(X, y, test_size=0.2, random_state=42)"
   ]
  },
  {
   "cell_type": "code",
   "execution_count": 13,
   "id": "dd85d696",
   "metadata": {},
   "outputs": [],
   "source": [
    "import tensorflow as tf"
   ]
  },
  {
   "cell_type": "code",
   "execution_count": 14,
   "id": "33fd9002",
   "metadata": {},
   "outputs": [],
   "source": [
    "inputs = tf.keras.Input(shape=(20,938,1))"
   ]
  },
  {
   "cell_type": "code",
   "execution_count": 15,
   "id": "c4c80a65",
   "metadata": {},
   "outputs": [],
   "source": [
    "x = tf.keras.layers.Conv2D(16,(2,2),activation = \"relu\")(inputs)"
   ]
  },
  {
   "cell_type": "code",
   "execution_count": 16,
   "id": "b9817895",
   "metadata": {},
   "outputs": [],
   "source": [
    "x = tf.keras.layers.MaxPooling2D(2,2)(x)"
   ]
  },
  {
   "cell_type": "code",
   "execution_count": 17,
   "id": "899c2148",
   "metadata": {},
   "outputs": [],
   "source": [
    "x = tf.keras.layers.Conv2D(32,(2,2),activation = \"relu\")(x)  \n",
    "x = tf.keras.layers.MaxPooling2D(2,2)(x)"
   ]
  },
  {
   "cell_type": "code",
   "execution_count": 18,
   "id": "9d99ac92",
   "metadata": {},
   "outputs": [],
   "source": [
    "x = tf.keras.layers.Flatten()(x)"
   ]
  },
  {
   "cell_type": "code",
   "execution_count": 19,
   "id": "da2a22c0",
   "metadata": {},
   "outputs": [],
   "source": [
    "x = tf.keras.layers.Dense(32,activation=\"relu\")(x)\n",
    "x = tf.keras.layers.Dropout(0.3)(x)"
   ]
  },
  {
   "cell_type": "code",
   "execution_count": 20,
   "id": "2f41a45d",
   "metadata": {},
   "outputs": [],
   "source": [
    "output = tf.keras.layers.Dense(1,activation=\"sigmoid\")(x)      #Adding the Hidden layer"
   ]
  },
  {
   "cell_type": "code",
   "execution_count": 21,
   "id": "5369ed81",
   "metadata": {},
   "outputs": [],
   "source": [
    "model = tf.keras.Model(inputs=inputs, outputs=output)"
   ]
  },
  {
   "cell_type": "code",
   "execution_count": 22,
   "id": "b2f8a994",
   "metadata": {},
   "outputs": [],
   "source": [
    "from tensorflow.keras.optimizers import RMSprop,SGD,Adam\n",
    "adam=Adam(learning_rate=0.001)\n",
    "model.compile(optimizer='adam', loss='binary_crossentropy', metrics = ['acc'])"
   ]
  },
  {
   "cell_type": "code",
   "execution_count": 23,
   "id": "4341f7a6",
   "metadata": {},
   "outputs": [],
   "source": [
    "y_train = np.asarray(y_train)"
   ]
  },
  {
   "cell_type": "code",
   "execution_count": 24,
   "id": "80a51016",
   "metadata": {},
   "outputs": [
    {
     "name": "stdout",
     "output_type": "stream",
     "text": [
      "Epoch 1/100\n",
      "166/166 [==============================] - 3s 17ms/step - loss: 7.1377 - acc: 0.5873\n",
      "Epoch 2/100\n",
      "166/166 [==============================] - 3s 17ms/step - loss: 0.5927 - acc: 0.6295\n",
      "Epoch 3/100\n",
      "166/166 [==============================] - 3s 17ms/step - loss: 0.5213 - acc: 0.6837\n",
      "Epoch 4/100\n",
      "166/166 [==============================] - 3s 17ms/step - loss: 0.4630 - acc: 0.7425\n",
      "Epoch 5/100\n",
      "166/166 [==============================] - 3s 17ms/step - loss: 0.4197 - acc: 0.7816\n",
      "Epoch 6/100\n",
      "166/166 [==============================] - 3s 17ms/step - loss: 0.4127 - acc: 0.7892\n",
      "Epoch 7/100\n",
      "166/166 [==============================] - 3s 17ms/step - loss: 0.4047 - acc: 0.7937\n",
      "Epoch 8/100\n",
      "166/166 [==============================] - 3s 17ms/step - loss: 0.3861 - acc: 0.7982\n",
      "Epoch 9/100\n",
      "166/166 [==============================] - 3s 17ms/step - loss: 0.3675 - acc: 0.8193\n",
      "Epoch 10/100\n",
      "166/166 [==============================] - 3s 18ms/step - loss: 0.3787 - acc: 0.8117\n",
      "Epoch 11/100\n",
      "166/166 [==============================] - 3s 17ms/step - loss: 0.3780 - acc: 0.8042\n",
      "Epoch 12/100\n",
      "166/166 [==============================] - 3s 17ms/step - loss: 0.3865 - acc: 0.8027\n",
      "Epoch 13/100\n",
      "166/166 [==============================] - 3s 18ms/step - loss: 0.3952 - acc: 0.8087\n",
      "Epoch 14/100\n",
      "166/166 [==============================] - 3s 17ms/step - loss: 0.2787 - acc: 0.8780\n",
      "Epoch 15/100\n",
      "166/166 [==============================] - 3s 17ms/step - loss: 0.1514 - acc: 0.9413\n",
      "Epoch 16/100\n",
      "166/166 [==============================] - 3s 17ms/step - loss: 0.0619 - acc: 0.9714\n",
      "Epoch 17/100\n",
      "166/166 [==============================] - 3s 17ms/step - loss: 0.0371 - acc: 0.9849\n",
      "Epoch 18/100\n",
      "166/166 [==============================] - 3s 17ms/step - loss: 0.0573 - acc: 0.9774\n",
      "Epoch 19/100\n",
      "166/166 [==============================] - 3s 17ms/step - loss: 0.0374 - acc: 0.9864\n",
      "Epoch 20/100\n",
      "166/166 [==============================] - 3s 17ms/step - loss: 0.0169 - acc: 0.9940\n",
      "Epoch 21/100\n",
      "166/166 [==============================] - 3s 17ms/step - loss: 0.0229 - acc: 0.9910\n",
      "Epoch 22/100\n",
      "166/166 [==============================] - 3s 17ms/step - loss: 0.0135 - acc: 0.9955\n",
      "Epoch 23/100\n",
      "166/166 [==============================] - 3s 17ms/step - loss: 0.1527 - acc: 0.9352\n",
      "Epoch 24/100\n",
      "166/166 [==============================] - 3s 17ms/step - loss: 0.0408 - acc: 0.9880\n",
      "Epoch 25/100\n",
      "166/166 [==============================] - 3s 17ms/step - loss: 0.0150 - acc: 0.9955\n",
      "Epoch 26/100\n",
      "166/166 [==============================] - 3s 17ms/step - loss: 0.0069 - acc: 0.9985\n",
      "Epoch 27/100\n",
      "166/166 [==============================] - 3s 17ms/step - loss: 0.0069 - acc: 0.9970\n",
      "Epoch 28/100\n",
      "166/166 [==============================] - 3s 17ms/step - loss: 0.0053 - acc: 0.9970\n",
      "Epoch 29/100\n",
      "166/166 [==============================] - 3s 17ms/step - loss: 0.0431 - acc: 0.9895\n",
      "Epoch 30/100\n",
      "166/166 [==============================] - 3s 17ms/step - loss: 0.0034 - acc: 0.9985\n",
      "Epoch 31/100\n",
      "166/166 [==============================] - 3s 17ms/step - loss: 0.0034 - acc: 0.9985\n",
      "Epoch 32/100\n",
      "166/166 [==============================] - 3s 17ms/step - loss: 0.0052 - acc: 1.0000\n",
      "Epoch 33/100\n",
      "166/166 [==============================] - 3s 17ms/step - loss: 0.0062 - acc: 0.9970\n",
      "Epoch 34/100\n",
      "166/166 [==============================] - 3s 17ms/step - loss: 0.0044 - acc: 0.9985\n",
      "Epoch 35/100\n",
      "166/166 [==============================] - 3s 17ms/step - loss: 0.0243 - acc: 0.9955\n",
      "Epoch 36/100\n",
      "166/166 [==============================] - 3s 17ms/step - loss: 0.0020 - acc: 1.0000\n",
      "Epoch 37/100\n",
      "166/166 [==============================] - 3s 17ms/step - loss: 0.0183 - acc: 0.9910\n",
      "Epoch 38/100\n",
      "166/166 [==============================] - 3s 17ms/step - loss: 0.1086 - acc: 0.9834\n",
      "Epoch 39/100\n",
      "166/166 [==============================] - 3s 18ms/step - loss: 0.0024 - acc: 1.0000\n",
      "Epoch 40/100\n",
      "166/166 [==============================] - 3s 17ms/step - loss: 0.0103 - acc: 0.9970\n",
      "Epoch 41/100\n",
      "166/166 [==============================] - 3s 17ms/step - loss: 0.0085 - acc: 0.9955\n",
      "Epoch 42/100\n",
      "166/166 [==============================] - 3s 17ms/step - loss: 0.0016 - acc: 1.0000\n",
      "Epoch 43/100\n",
      "166/166 [==============================] - 3s 17ms/step - loss: 0.0318 - acc: 0.9895\n",
      "Epoch 44/100\n",
      "166/166 [==============================] - 3s 17ms/step - loss: 0.0052 - acc: 1.0000\n",
      "Epoch 45/100\n",
      "166/166 [==============================] - 3s 17ms/step - loss: 0.0042 - acc: 0.9970\n",
      "Epoch 46/100\n",
      "166/166 [==============================] - 3s 17ms/step - loss: 0.0023 - acc: 0.9985\n",
      "Epoch 47/100\n",
      "166/166 [==============================] - 3s 17ms/step - loss: 3.7241e-04 - acc: 1.0000\n",
      "Epoch 48/100\n",
      "166/166 [==============================] - 3s 18ms/step - loss: 8.9580e-05 - acc: 1.0000\n",
      "Epoch 49/100\n",
      "166/166 [==============================] - 3s 17ms/step - loss: 0.0018 - acc: 0.9985\n",
      "Epoch 50/100\n",
      "166/166 [==============================] - 3s 17ms/step - loss: 0.0013 - acc: 1.0000\n",
      "Epoch 51/100\n",
      "166/166 [==============================] - 3s 17ms/step - loss: 0.0023 - acc: 0.9985\n",
      "Epoch 52/100\n",
      "166/166 [==============================] - 3s 17ms/step - loss: 0.4646 - acc: 0.9548\n",
      "Epoch 53/100\n",
      "166/166 [==============================] - 3s 17ms/step - loss: 0.0809 - acc: 0.9804\n",
      "Epoch 54/100\n",
      "166/166 [==============================] - 3s 17ms/step - loss: 0.0091 - acc: 0.9955\n",
      "Epoch 55/100\n",
      "166/166 [==============================] - 3s 17ms/step - loss: 0.0032 - acc: 0.9985\n",
      "Epoch 56/100\n",
      "166/166 [==============================] - 3s 17ms/step - loss: 0.0011 - acc: 1.0000\n",
      "Epoch 57/100\n",
      "166/166 [==============================] - 3s 17ms/step - loss: 0.0044 - acc: 0.9985\n",
      "Epoch 58/100\n",
      "166/166 [==============================] - 3s 17ms/step - loss: 0.0018 - acc: 1.0000\n",
      "Epoch 59/100\n",
      "166/166 [==============================] - 3s 17ms/step - loss: 0.0086 - acc: 0.9970\n",
      "Epoch 60/100\n",
      "166/166 [==============================] - 3s 17ms/step - loss: 0.0207 - acc: 0.9940\n",
      "Epoch 61/100\n",
      "166/166 [==============================] - 3s 17ms/step - loss: 0.0141 - acc: 0.9955\n",
      "Epoch 62/100\n",
      "166/166 [==============================] - 3s 17ms/step - loss: 0.0012 - acc: 1.0000\n",
      "Epoch 63/100\n",
      "166/166 [==============================] - 3s 17ms/step - loss: 0.0038 - acc: 0.9985\n",
      "Epoch 64/100\n",
      "166/166 [==============================] - 3s 17ms/step - loss: 0.0038 - acc: 0.9985\n",
      "Epoch 65/100\n",
      "166/166 [==============================] - 3s 17ms/step - loss: 0.0044 - acc: 0.9970\n",
      "Epoch 66/100\n",
      "166/166 [==============================] - 3s 17ms/step - loss: 7.9671e-04 - acc: 1.0000\n",
      "Epoch 67/100\n",
      "166/166 [==============================] - 3s 17ms/step - loss: 6.3728e-04 - acc: 1.0000\n",
      "Epoch 68/100\n",
      "166/166 [==============================] - 3s 18ms/step - loss: 0.0020 - acc: 0.9985\n",
      "Epoch 69/100\n",
      "166/166 [==============================] - 3s 17ms/step - loss: 0.0023 - acc: 1.0000\n",
      "Epoch 70/100\n",
      "166/166 [==============================] - 3s 17ms/step - loss: 9.5763e-05 - acc: 1.0000\n",
      "Epoch 71/100\n",
      "166/166 [==============================] - 3s 17ms/step - loss: 0.0021 - acc: 1.0000\n",
      "Epoch 72/100\n",
      "166/166 [==============================] - 3s 18ms/step - loss: 0.0036 - acc: 0.9970\n",
      "Epoch 73/100\n",
      "166/166 [==============================] - 3s 17ms/step - loss: 9.2520e-04 - acc: 1.0000\n",
      "Epoch 74/100\n",
      "166/166 [==============================] - 3s 17ms/step - loss: 0.0016 - acc: 1.0000\n",
      "Epoch 75/100\n",
      "166/166 [==============================] - 3s 17ms/step - loss: 0.0011 - acc: 1.0000\n",
      "Epoch 76/100\n",
      "166/166 [==============================] - 3s 17ms/step - loss: 0.1091 - acc: 0.9864\n",
      "Epoch 77/100\n",
      "166/166 [==============================] - 3s 17ms/step - loss: 0.0310 - acc: 0.9955\n",
      "Epoch 78/100\n",
      "166/166 [==============================] - 3s 17ms/step - loss: 0.0039 - acc: 0.9985\n",
      "Epoch 79/100\n",
      "166/166 [==============================] - 3s 18ms/step - loss: 0.0037 - acc: 0.9985\n",
      "Epoch 80/100\n",
      "166/166 [==============================] - 3s 17ms/step - loss: 6.0637e-04 - acc: 1.0000\n",
      "Epoch 81/100\n",
      "166/166 [==============================] - 3s 17ms/step - loss: 4.0079e-04 - acc: 1.0000\n",
      "Epoch 82/100\n",
      "166/166 [==============================] - 3s 17ms/step - loss: 0.0041 - acc: 0.9970\n",
      "Epoch 83/100\n",
      "166/166 [==============================] - 3s 17ms/step - loss: 0.0030 - acc: 1.0000\n",
      "Epoch 84/100\n"
     ]
    },
    {
     "name": "stdout",
     "output_type": "stream",
     "text": [
      "166/166 [==============================] - 3s 17ms/step - loss: 0.0026 - acc: 1.0000\n",
      "Epoch 85/100\n",
      "166/166 [==============================] - 3s 17ms/step - loss: 0.0901 - acc: 0.9834\n",
      "Epoch 86/100\n",
      "166/166 [==============================] - 3s 17ms/step - loss: 0.0110 - acc: 0.9955\n",
      "Epoch 87/100\n",
      "166/166 [==============================] - 3s 17ms/step - loss: 0.0025 - acc: 1.0000\n",
      "Epoch 88/100\n",
      "166/166 [==============================] - 3s 17ms/step - loss: 6.6006e-04 - acc: 1.0000\n",
      "Epoch 89/100\n",
      "166/166 [==============================] - 3s 17ms/step - loss: 0.0040 - acc: 0.9970\n",
      "Epoch 90/100\n",
      "166/166 [==============================] - 3s 17ms/step - loss: 0.0037 - acc: 0.9985\n",
      "Epoch 91/100\n",
      "166/166 [==============================] - 3s 17ms/step - loss: 0.0107 - acc: 0.9985\n",
      "Epoch 92/100\n",
      "166/166 [==============================] - 3s 17ms/step - loss: 2.4711e-04 - acc: 1.0000\n",
      "Epoch 93/100\n",
      "166/166 [==============================] - 3s 17ms/step - loss: 2.3006e-04 - acc: 1.0000\n",
      "Epoch 94/100\n",
      "166/166 [==============================] - 3s 17ms/step - loss: 0.0021 - acc: 0.9985\n",
      "Epoch 95/100\n",
      "166/166 [==============================] - 3s 17ms/step - loss: 0.0017 - acc: 0.9985\n",
      "Epoch 96/100\n",
      "166/166 [==============================] - 3s 17ms/step - loss: 0.0025 - acc: 0.9985\n",
      "Epoch 97/100\n",
      "166/166 [==============================] - 3s 17ms/step - loss: 1.9669e-04 - acc: 1.0000\n",
      "Epoch 98/100\n",
      "166/166 [==============================] - 3s 17ms/step - loss: 0.0035 - acc: 0.9985\n",
      "Epoch 99/100\n",
      "166/166 [==============================] - 3s 17ms/step - loss: 0.0034 - acc: 0.9970\n",
      "Epoch 100/100\n",
      "166/166 [==============================] - 3s 17ms/step - loss: 0.0037 - acc: 0.9985\n"
     ]
    }
   ],
   "source": [
    "history = model.fit(X_train,y_train,verbose=1,batch_size=4,epochs=100)"
   ]
  },
  {
   "cell_type": "code",
   "execution_count": 25,
   "id": "cea875b3",
   "metadata": {},
   "outputs": [
    {
     "data": {
      "text/plain": [
       "(166,)"
      ]
     },
     "execution_count": 25,
     "metadata": {},
     "output_type": "execute_result"
    }
   ],
   "source": [
    "y_test = np.asarray(y_test)\n",
    "y_test.shape"
   ]
  },
  {
   "cell_type": "code",
   "execution_count": 26,
   "id": "ed0fdb36",
   "metadata": {},
   "outputs": [
    {
     "name": "stdout",
     "output_type": "stream",
     "text": [
      "42/42 [==============================] - 0s 6ms/step - loss: 0.6007 - acc: 0.9819\n",
      "accuracy: 98.19%\n",
      "Loss: 0.6007348895072937\n"
     ]
    }
   ],
   "source": [
    "(eval_loss, eval_accuracy) = model.evaluate(X_test, y_test, batch_size=4, verbose=1)\n",
    "print(\"accuracy: {:.2f}%\".format(eval_accuracy * 100)) \n",
    "print(\"Loss: {}\".format(eval_loss))"
   ]
  },
  {
   "cell_type": "code",
   "execution_count": 27,
   "id": "5b7eac6a",
   "metadata": {},
   "outputs": [
    {
     "name": "stdout",
     "output_type": "stream",
     "text": [
      "              precision    recall  f1-score   support\n",
      "\n",
      "        Fake       0.98      0.97      0.98        65\n",
      "        Real       0.98      0.99      0.99       101\n",
      "\n",
      "    accuracy                           0.98       166\n",
      "   macro avg       0.98      0.98      0.98       166\n",
      "weighted avg       0.98      0.98      0.98       166\n",
      "\n"
     ]
    }
   ],
   "source": [
    "y_pred = np.round(model.predict(X_test),0)\n",
    "import sklearn.metrics as metrics\n",
    "classif_metrics = metrics.classification_report(y_test,y_pred,target_names = ['Fake','Real'])\n",
    "print(classif_metrics)"
   ]
  },
  {
   "cell_type": "code",
   "execution_count": 29,
   "id": "140e4ce0",
   "metadata": {},
   "outputs": [
    {
     "data": {
      "image/png": "[encoded data removed]",
      "text/plain": [
       "<Figure size 432x288 with 1 Axes>"
      ]
     },
     "metadata": {
      "needs_background": "light"
     },
     "output_type": "display_data"
    },
    {
     "data": {
      "image/png": "[encoded data removed]",
      "text/plain": [
       "<Figure size 432x288 with 1 Axes>"
      ]
     },
     "metadata": {
      "needs_background": "light"
     },
     "output_type": "display_data"
    }
   ],
   "source": [
    "import matplotlib.pyplot as plt\n",
    "\n",
    "acc = history.history[\"acc\"]\n",
    "loss = history.history[\"loss\"]\n",
    "epochs = range(len(acc))\n",
    "plt.plot(epochs, acc, \"r\", label=\"Training acc\")\n",
    "#plt.plot(epochs, val_acc, \"b\", label=\"Validation acc\")\n",
    "plt.title(\"MFCC Accuracy\")\n",
    "plt.ylabel(\"accuracy\") \n",
    "plt.xlabel(\"epoch\")\n",
    "plt.legend()\n",
    "\n",
    "plt.figure()\n",
    "plt.plot(epochs, loss, \"r\", label=\"Training loss\")\n",
    "#plt.plot(epochs, val_loss, \"b\", label=\"Validation loss\")\n",
    "plt.title(\"MFCC Loss\")\n",
    "plt.ylabel(\"loss\") \n",
    "plt.xlabel(\"epoch\")\n",
    "plt.legend()\n",
    "plt.show()"
   ]
  },
  {
   "cell_type": "code",
   "execution_count": 30,
   "id": "9271582f",
   "metadata": {},
   "outputs": [
    {
     "data": {
      "image/png": "[encoded data removed]",
      "text/plain": [
       "<Figure size 432x288 with 2 Axes>"
      ]
     },
     "metadata": {},
     "output_type": "display_data"
    }
   ],
   "source": [
    "import seaborn as sn\n",
    "import pandas as pd\n",
    "import matplotlib.pyplot as plt\n",
    "\n",
    "\n",
    "TP = 0\n",
    "FP = 0\n",
    "TN = 0\n",
    "FN = 0\n",
    "\n",
    "for i in range(0,len(y_pred)):\n",
    "    if y_pred[i][0] == 1:\n",
    "        if y_test[i] == 1:\n",
    "            TN += 1\n",
    "        if y_test[i] == 0:\n",
    "            FN += 1\n",
    "    if y_pred[i][0] == 0:\n",
    "        if y_test[i] == 1:\n",
    "            FP += 1\n",
    "        if y_test[i] == 0:\n",
    "            TP += 1\n",
    "\n",
    "total = TN + FN + TP + FP\n",
    "TN = TN / total\n",
    "FN = FN / total\n",
    "TP = TP / total\n",
    "FP = FP / total\n",
    "\n",
    "\n",
    "array = [[TP,FP],\n",
    "         [FN,TN]]\n",
    "\n",
    "df_cm = pd.DataFrame(array, range(2), range(2))\n",
    "# plt.figure(figsize=(10,7))\n",
    "sn.set(font_scale=2.1) # for label size\n",
    "sn.heatmap(df_cm, annot=True, annot_kws={\"size\": 16}) # font size\n",
    "plt.title(\"Confusion Matrix\")\n",
    "plt.xticks([0.5,1.5], [\"Fake\",\"Real\"])\n",
    "plt.yticks([0.5,1.5], [\"Fake\",\"Real\"])\n",
    "\n",
    "plt.show()"
   ]
  },
  {
   "cell_type": "code",
   "execution_count": null,
   "id": "8131a9a4",
   "metadata": {},
   "outputs": [],
   "source": []
  }
 ],
 "metadata": {
  "kernelspec": {
   "display_name": "Python 3 (ipykernel)",
   "language": "python",
   "name": "python3"
  },
  "language_info": {
   "codemirror_mode": {
    "name": "ipython",
    "version": 3
   },
   "file_extension": ".py",
   "mimetype": "text/x-python",
   "name": "python",
   "nbconvert_exporter": "python",
   "pygments_lexer": "ipython3",
   "version": "3.9.7"
  }
 },
 "nbformat": 4,
 "nbformat_minor": 5
}
