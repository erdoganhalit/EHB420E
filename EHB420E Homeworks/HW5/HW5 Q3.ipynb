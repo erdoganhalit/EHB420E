{
 "cells": [
  {
   "cell_type": "code",
   "execution_count": 193,
   "id": "a25f8b48",
   "metadata": {},
   "outputs": [],
   "source": [
    "import pandas as pd\n",
    "df = pd.read_excel(r'C:\\Users\\halit.erdogan\\Downloads\\cat.xlsx')"
   ]
  },
  {
   "cell_type": "code",
   "execution_count": 194,
   "id": "77c4fff0",
   "metadata": {},
   "outputs": [
    {
     "data": {
      "text/html": [
       "<div>\n",
       "<style scoped>\n",
       "    .dataframe tbody tr th:only-of-type {\n",
       "        vertical-align: middle;\n",
       "    }\n",
       "\n",
       "    .dataframe tbody tr th {\n",
       "        vertical-align: top;\n",
       "    }\n",
       "\n",
       "    .dataframe thead th {\n",
       "        text-align: right;\n",
       "    }\n",
       "</style>\n",
       "<table border=\"1\" class=\"dataframe\">\n",
       "  <thead>\n",
       "    <tr style=\"text-align: right;\">\n",
       "      <th></th>\n",
       "      <th>Cat</th>\n",
       "      <th>Unnamed: 1</th>\n",
       "    </tr>\n",
       "  </thead>\n",
       "  <tbody>\n",
       "    <tr>\n",
       "      <th>0</th>\n",
       "      <td>##############################################...</td>\n",
       "      <td>NaN</td>\n",
       "    </tr>\n",
       "    <tr>\n",
       "      <th>1</th>\n",
       "      <td>## Number of clusters: 3</td>\n",
       "      <td>NaN</td>\n",
       "    </tr>\n",
       "    <tr>\n",
       "      <th>2</th>\n",
       "      <td>##############################################...</td>\n",
       "      <td>NaN</td>\n",
       "    </tr>\n",
       "    <tr>\n",
       "      <th>3</th>\n",
       "      <td>## Cluster: Head</td>\n",
       "      <td>NaN</td>\n",
       "    </tr>\n",
       "    <tr>\n",
       "      <th>4</th>\n",
       "      <td>##############################################...</td>\n",
       "      <td>NaN</td>\n",
       "    </tr>\n",
       "    <tr>\n",
       "      <th>...</th>\n",
       "      <td>...</td>\n",
       "      <td>...</td>\n",
       "    </tr>\n",
       "    <tr>\n",
       "      <th>523</th>\n",
       "      <td>0.8248418521018915 0.7134157163726719 Ear_right</td>\n",
       "      <td>NaN</td>\n",
       "    </tr>\n",
       "    <tr>\n",
       "      <th>524</th>\n",
       "      <td>0.8239586646098369 0.7675190168773441 Ear_right</td>\n",
       "      <td>NaN</td>\n",
       "    </tr>\n",
       "    <tr>\n",
       "      <th>525</th>\n",
       "      <td>0.8155149407204317 0.7135170163641819 Ear_right</td>\n",
       "      <td>NaN</td>\n",
       "    </tr>\n",
       "    <tr>\n",
       "      <th>526</th>\n",
       "      <td>0.7856914234307533 0.6819138433217659 Ear_right</td>\n",
       "      <td>NaN</td>\n",
       "    </tr>\n",
       "    <tr>\n",
       "      <th>527</th>\n",
       "      <td>0.708266829777928 0.7612342280212532 Ear_right</td>\n",
       "      <td>NaN</td>\n",
       "    </tr>\n",
       "  </tbody>\n",
       "</table>\n",
       "<p>528 rows × 2 columns</p>\n",
       "</div>"
      ],
      "text/plain": [
       "                                                   Cat Unnamed: 1\n",
       "0    ##############################################...        NaN\n",
       "1                             ## Number of clusters: 3        NaN\n",
       "2    ##############################################...        NaN\n",
       "3                                     ## Cluster: Head        NaN\n",
       "4    ##############################################...        NaN\n",
       "..                                                 ...        ...\n",
       "523    0.8248418521018915 0.7134157163726719 Ear_right        NaN\n",
       "524    0.8239586646098369 0.7675190168773441 Ear_right        NaN\n",
       "525    0.8155149407204317 0.7135170163641819 Ear_right        NaN\n",
       "526    0.7856914234307533 0.6819138433217659 Ear_right        NaN\n",
       "527     0.708266829777928 0.7612342280212532 Ear_right        NaN\n",
       "\n",
       "[528 rows x 2 columns]"
      ]
     },
     "execution_count": 194,
     "metadata": {},
     "output_type": "execute_result"
    }
   ],
   "source": [
    "df"
   ]
  },
  {
   "cell_type": "code",
   "execution_count": 195,
   "id": "2e386994",
   "metadata": {},
   "outputs": [
    {
     "data": {
      "text/plain": [
       "'0.45660137634625386 0.43280640922410835 Head'"
      ]
     },
     "execution_count": 195,
     "metadata": {},
     "output_type": "execute_result"
    }
   ],
   "source": [
    "df.iloc[14,0]"
   ]
  },
  {
   "cell_type": "code",
   "execution_count": 196,
   "id": "3b89d4ac",
   "metadata": {},
   "outputs": [
    {
     "data": {
      "text/plain": [
       "'0.5221079576856864 0.38781976501469645 Head'"
      ]
     },
     "execution_count": 196,
     "metadata": {},
     "output_type": "execute_result"
    }
   ],
   "source": [
    "df.iloc[303,0]"
   ]
  },
  {
   "cell_type": "code",
   "execution_count": 197,
   "id": "c521630c",
   "metadata": {},
   "outputs": [
    {
     "data": {
      "text/plain": [
       "0      0.45660137634625386 0.43280640922410835 Head\n",
       "1        0.6113784672224188 0.5286245988894975 Head\n",
       "2       0.45029897412145387 0.7116061205092745 Head\n",
       "3       0.6390150501606866 0.46074398219372076 Head\n",
       "4       0.6289567839292338 0.32346951478531516 Head\n",
       "                           ...                     \n",
       "285        0.6507143465614921 0.63649523744681 Head\n",
       "286      0.7425328608722306 0.5347125144436418 Head\n",
       "287      0.6823273195034794 0.6352458367411182 Head\n",
       "288      0.5081344429412513 0.5635050450437091 Head\n",
       "289     0.5221079576856864 0.38781976501469645 Head\n",
       "Name: Cat, Length: 290, dtype: object"
      ]
     },
     "execution_count": 197,
     "metadata": {},
     "output_type": "execute_result"
    }
   ],
   "source": [
    "head = df.iloc[14:304,0]\n",
    "head.reset_index(drop=True)"
   ]
  },
  {
   "cell_type": "code",
   "execution_count": 198,
   "id": "307833b7",
   "metadata": {},
   "outputs": [
    {
     "data": {
      "text/plain": [
       "0     0.22251831991489018 0.7883298714240449 Ear_left\n",
       "1     0.14596680282946534 0.7632310055814474 Ear_left\n",
       "2     0.23749944219723773 0.7655984146207966 Ear_left\n",
       "3      0.1980285850674685 0.7098982570929543 Ear_left\n",
       "4      0.2616646827795952 0.6704418747075763 Ear_left\n",
       "                           ...                       \n",
       "95     0.1970866600117869 0.7954764320973517 Ear_left\n",
       "96    0.31876246776325046 0.7669449786264386 Ear_left\n",
       "97     0.2202104218437173 0.8428793976571253 Ear_left\n",
       "98     0.35648189808486724 0.782707269261588 Ear_left\n",
       "99     0.1809722095110372 0.7812986916049908 Ear_left\n",
       "Name: Cat, Length: 100, dtype: object"
      ]
     },
     "execution_count": 198,
     "metadata": {},
     "output_type": "execute_result"
    }
   ],
   "source": [
    "leftEar = df.iloc[316:416,0]\n",
    "leftEar.reset_index(drop=True)"
   ]
  },
  {
   "cell_type": "code",
   "execution_count": 199,
   "id": "77e1aeb4",
   "metadata": {},
   "outputs": [
    {
     "data": {
      "text/plain": [
       "0     0.8377997370239522 0.7538358880610266 Ear_right\n",
       "1      0.7294538573365863 0.779583670283009 Ear_right\n",
       "2     0.6806521891032632 0.7177689348083449 Ear_right\n",
       "3     0.7638809829937171 0.6572282090651652 Ear_right\n",
       "4     0.7808853187516883 0.6592734947925624 Ear_right\n",
       "                           ...                       \n",
       "95    0.8248418521018915 0.7134157163726719 Ear_right\n",
       "96    0.8239586646098369 0.7675190168773441 Ear_right\n",
       "97    0.8155149407204317 0.7135170163641819 Ear_right\n",
       "98    0.7856914234307533 0.6819138433217659 Ear_right\n",
       "99     0.708266829777928 0.7612342280212532 Ear_right\n",
       "Name: Cat, Length: 100, dtype: object"
      ]
     },
     "execution_count": 199,
     "metadata": {},
     "output_type": "execute_result"
    }
   ],
   "source": [
    "rightEar = df.iloc[428:528,0]\n",
    "rightEar.reset_index(drop=True)"
   ]
  },
  {
   "cell_type": "code",
   "execution_count": 200,
   "id": "2cd9f074",
   "metadata": {},
   "outputs": [],
   "source": [
    "head = head.str.split(' ', expand=True)"
   ]
  },
  {
   "cell_type": "code",
   "execution_count": 201,
   "id": "f6c6d62f",
   "metadata": {},
   "outputs": [
    {
     "data": {
      "text/html": [
       "<div>\n",
       "<style scoped>\n",
       "    .dataframe tbody tr th:only-of-type {\n",
       "        vertical-align: middle;\n",
       "    }\n",
       "\n",
       "    .dataframe tbody tr th {\n",
       "        vertical-align: top;\n",
       "    }\n",
       "\n",
       "    .dataframe thead th {\n",
       "        text-align: right;\n",
       "    }\n",
       "</style>\n",
       "<table border=\"1\" class=\"dataframe\">\n",
       "  <thead>\n",
       "    <tr style=\"text-align: right;\">\n",
       "      <th></th>\n",
       "      <th>0</th>\n",
       "      <th>1</th>\n",
       "      <th>2</th>\n",
       "    </tr>\n",
       "  </thead>\n",
       "  <tbody>\n",
       "    <tr>\n",
       "      <th>0</th>\n",
       "      <td>0.45660137634625386</td>\n",
       "      <td>0.43280640922410835</td>\n",
       "      <td>Head</td>\n",
       "    </tr>\n",
       "    <tr>\n",
       "      <th>1</th>\n",
       "      <td>0.6113784672224188</td>\n",
       "      <td>0.5286245988894975</td>\n",
       "      <td>Head</td>\n",
       "    </tr>\n",
       "    <tr>\n",
       "      <th>2</th>\n",
       "      <td>0.45029897412145387</td>\n",
       "      <td>0.7116061205092745</td>\n",
       "      <td>Head</td>\n",
       "    </tr>\n",
       "    <tr>\n",
       "      <th>3</th>\n",
       "      <td>0.6390150501606866</td>\n",
       "      <td>0.46074398219372076</td>\n",
       "      <td>Head</td>\n",
       "    </tr>\n",
       "    <tr>\n",
       "      <th>4</th>\n",
       "      <td>0.6289567839292338</td>\n",
       "      <td>0.32346951478531516</td>\n",
       "      <td>Head</td>\n",
       "    </tr>\n",
       "    <tr>\n",
       "      <th>...</th>\n",
       "      <td>...</td>\n",
       "      <td>...</td>\n",
       "      <td>...</td>\n",
       "    </tr>\n",
       "    <tr>\n",
       "      <th>285</th>\n",
       "      <td>0.6507143465614921</td>\n",
       "      <td>0.63649523744681</td>\n",
       "      <td>Head</td>\n",
       "    </tr>\n",
       "    <tr>\n",
       "      <th>286</th>\n",
       "      <td>0.7425328608722306</td>\n",
       "      <td>0.5347125144436418</td>\n",
       "      <td>Head</td>\n",
       "    </tr>\n",
       "    <tr>\n",
       "      <th>287</th>\n",
       "      <td>0.6823273195034794</td>\n",
       "      <td>0.6352458367411182</td>\n",
       "      <td>Head</td>\n",
       "    </tr>\n",
       "    <tr>\n",
       "      <th>288</th>\n",
       "      <td>0.5081344429412513</td>\n",
       "      <td>0.5635050450437091</td>\n",
       "      <td>Head</td>\n",
       "    </tr>\n",
       "    <tr>\n",
       "      <th>289</th>\n",
       "      <td>0.5221079576856864</td>\n",
       "      <td>0.38781976501469645</td>\n",
       "      <td>Head</td>\n",
       "    </tr>\n",
       "  </tbody>\n",
       "</table>\n",
       "<p>290 rows × 3 columns</p>\n",
       "</div>"
      ],
      "text/plain": [
       "                       0                    1     2\n",
       "0    0.45660137634625386  0.43280640922410835  Head\n",
       "1     0.6113784672224188   0.5286245988894975  Head\n",
       "2    0.45029897412145387   0.7116061205092745  Head\n",
       "3     0.6390150501606866  0.46074398219372076  Head\n",
       "4     0.6289567839292338  0.32346951478531516  Head\n",
       "..                   ...                  ...   ...\n",
       "285   0.6507143465614921     0.63649523744681  Head\n",
       "286   0.7425328608722306   0.5347125144436418  Head\n",
       "287   0.6823273195034794   0.6352458367411182  Head\n",
       "288   0.5081344429412513   0.5635050450437091  Head\n",
       "289   0.5221079576856864  0.38781976501469645  Head\n",
       "\n",
       "[290 rows x 3 columns]"
      ]
     },
     "execution_count": 201,
     "metadata": {},
     "output_type": "execute_result"
    }
   ],
   "source": [
    "head.reset_index(drop=True)"
   ]
  },
  {
   "cell_type": "code",
   "execution_count": 202,
   "id": "f04c9b4f",
   "metadata": {},
   "outputs": [
    {
     "data": {
      "text/html": [
       "<div>\n",
       "<style scoped>\n",
       "    .dataframe tbody tr th:only-of-type {\n",
       "        vertical-align: middle;\n",
       "    }\n",
       "\n",
       "    .dataframe tbody tr th {\n",
       "        vertical-align: top;\n",
       "    }\n",
       "\n",
       "    .dataframe thead th {\n",
       "        text-align: right;\n",
       "    }\n",
       "</style>\n",
       "<table border=\"1\" class=\"dataframe\">\n",
       "  <thead>\n",
       "    <tr style=\"text-align: right;\">\n",
       "      <th></th>\n",
       "      <th>0</th>\n",
       "      <th>1</th>\n",
       "      <th>2</th>\n",
       "    </tr>\n",
       "  </thead>\n",
       "  <tbody>\n",
       "    <tr>\n",
       "      <th>0</th>\n",
       "      <td>0.22251831991489018</td>\n",
       "      <td>0.7883298714240449</td>\n",
       "      <td>Ear_left</td>\n",
       "    </tr>\n",
       "    <tr>\n",
       "      <th>1</th>\n",
       "      <td>0.14596680282946534</td>\n",
       "      <td>0.7632310055814474</td>\n",
       "      <td>Ear_left</td>\n",
       "    </tr>\n",
       "    <tr>\n",
       "      <th>2</th>\n",
       "      <td>0.23749944219723773</td>\n",
       "      <td>0.7655984146207966</td>\n",
       "      <td>Ear_left</td>\n",
       "    </tr>\n",
       "    <tr>\n",
       "      <th>3</th>\n",
       "      <td>0.1980285850674685</td>\n",
       "      <td>0.7098982570929543</td>\n",
       "      <td>Ear_left</td>\n",
       "    </tr>\n",
       "    <tr>\n",
       "      <th>4</th>\n",
       "      <td>0.2616646827795952</td>\n",
       "      <td>0.6704418747075763</td>\n",
       "      <td>Ear_left</td>\n",
       "    </tr>\n",
       "    <tr>\n",
       "      <th>...</th>\n",
       "      <td>...</td>\n",
       "      <td>...</td>\n",
       "      <td>...</td>\n",
       "    </tr>\n",
       "    <tr>\n",
       "      <th>95</th>\n",
       "      <td>0.1970866600117869</td>\n",
       "      <td>0.7954764320973517</td>\n",
       "      <td>Ear_left</td>\n",
       "    </tr>\n",
       "    <tr>\n",
       "      <th>96</th>\n",
       "      <td>0.31876246776325046</td>\n",
       "      <td>0.7669449786264386</td>\n",
       "      <td>Ear_left</td>\n",
       "    </tr>\n",
       "    <tr>\n",
       "      <th>97</th>\n",
       "      <td>0.2202104218437173</td>\n",
       "      <td>0.8428793976571253</td>\n",
       "      <td>Ear_left</td>\n",
       "    </tr>\n",
       "    <tr>\n",
       "      <th>98</th>\n",
       "      <td>0.35648189808486724</td>\n",
       "      <td>0.782707269261588</td>\n",
       "      <td>Ear_left</td>\n",
       "    </tr>\n",
       "    <tr>\n",
       "      <th>99</th>\n",
       "      <td>0.1809722095110372</td>\n",
       "      <td>0.7812986916049908</td>\n",
       "      <td>Ear_left</td>\n",
       "    </tr>\n",
       "  </tbody>\n",
       "</table>\n",
       "<p>100 rows × 3 columns</p>\n",
       "</div>"
      ],
      "text/plain": [
       "                      0                   1         2\n",
       "0   0.22251831991489018  0.7883298714240449  Ear_left\n",
       "1   0.14596680282946534  0.7632310055814474  Ear_left\n",
       "2   0.23749944219723773  0.7655984146207966  Ear_left\n",
       "3    0.1980285850674685  0.7098982570929543  Ear_left\n",
       "4    0.2616646827795952  0.6704418747075763  Ear_left\n",
       "..                  ...                 ...       ...\n",
       "95   0.1970866600117869  0.7954764320973517  Ear_left\n",
       "96  0.31876246776325046  0.7669449786264386  Ear_left\n",
       "97   0.2202104218437173  0.8428793976571253  Ear_left\n",
       "98  0.35648189808486724   0.782707269261588  Ear_left\n",
       "99   0.1809722095110372  0.7812986916049908  Ear_left\n",
       "\n",
       "[100 rows x 3 columns]"
      ]
     },
     "execution_count": 202,
     "metadata": {},
     "output_type": "execute_result"
    }
   ],
   "source": [
    "leftEar = leftEar.str.split(' ', expand=True)\n",
    "leftEar.reset_index(drop=True)"
   ]
  },
  {
   "cell_type": "code",
   "execution_count": 203,
   "id": "25ebf981",
   "metadata": {},
   "outputs": [
    {
     "data": {
      "text/html": [
       "<div>\n",
       "<style scoped>\n",
       "    .dataframe tbody tr th:only-of-type {\n",
       "        vertical-align: middle;\n",
       "    }\n",
       "\n",
       "    .dataframe tbody tr th {\n",
       "        vertical-align: top;\n",
       "    }\n",
       "\n",
       "    .dataframe thead th {\n",
       "        text-align: right;\n",
       "    }\n",
       "</style>\n",
       "<table border=\"1\" class=\"dataframe\">\n",
       "  <thead>\n",
       "    <tr style=\"text-align: right;\">\n",
       "      <th></th>\n",
       "      <th>0</th>\n",
       "      <th>1</th>\n",
       "      <th>2</th>\n",
       "    </tr>\n",
       "  </thead>\n",
       "  <tbody>\n",
       "    <tr>\n",
       "      <th>0</th>\n",
       "      <td>0.8377997370239522</td>\n",
       "      <td>0.7538358880610266</td>\n",
       "      <td>Ear_right</td>\n",
       "    </tr>\n",
       "    <tr>\n",
       "      <th>1</th>\n",
       "      <td>0.7294538573365863</td>\n",
       "      <td>0.779583670283009</td>\n",
       "      <td>Ear_right</td>\n",
       "    </tr>\n",
       "    <tr>\n",
       "      <th>2</th>\n",
       "      <td>0.6806521891032632</td>\n",
       "      <td>0.7177689348083449</td>\n",
       "      <td>Ear_right</td>\n",
       "    </tr>\n",
       "    <tr>\n",
       "      <th>3</th>\n",
       "      <td>0.7638809829937171</td>\n",
       "      <td>0.6572282090651652</td>\n",
       "      <td>Ear_right</td>\n",
       "    </tr>\n",
       "    <tr>\n",
       "      <th>4</th>\n",
       "      <td>0.7808853187516883</td>\n",
       "      <td>0.6592734947925624</td>\n",
       "      <td>Ear_right</td>\n",
       "    </tr>\n",
       "    <tr>\n",
       "      <th>...</th>\n",
       "      <td>...</td>\n",
       "      <td>...</td>\n",
       "      <td>...</td>\n",
       "    </tr>\n",
       "    <tr>\n",
       "      <th>95</th>\n",
       "      <td>0.8248418521018915</td>\n",
       "      <td>0.7134157163726719</td>\n",
       "      <td>Ear_right</td>\n",
       "    </tr>\n",
       "    <tr>\n",
       "      <th>96</th>\n",
       "      <td>0.8239586646098369</td>\n",
       "      <td>0.7675190168773441</td>\n",
       "      <td>Ear_right</td>\n",
       "    </tr>\n",
       "    <tr>\n",
       "      <th>97</th>\n",
       "      <td>0.8155149407204317</td>\n",
       "      <td>0.7135170163641819</td>\n",
       "      <td>Ear_right</td>\n",
       "    </tr>\n",
       "    <tr>\n",
       "      <th>98</th>\n",
       "      <td>0.7856914234307533</td>\n",
       "      <td>0.6819138433217659</td>\n",
       "      <td>Ear_right</td>\n",
       "    </tr>\n",
       "    <tr>\n",
       "      <th>99</th>\n",
       "      <td>0.708266829777928</td>\n",
       "      <td>0.7612342280212532</td>\n",
       "      <td>Ear_right</td>\n",
       "    </tr>\n",
       "  </tbody>\n",
       "</table>\n",
       "<p>100 rows × 3 columns</p>\n",
       "</div>"
      ],
      "text/plain": [
       "                     0                   1          2\n",
       "0   0.8377997370239522  0.7538358880610266  Ear_right\n",
       "1   0.7294538573365863   0.779583670283009  Ear_right\n",
       "2   0.6806521891032632  0.7177689348083449  Ear_right\n",
       "3   0.7638809829937171  0.6572282090651652  Ear_right\n",
       "4   0.7808853187516883  0.6592734947925624  Ear_right\n",
       "..                 ...                 ...        ...\n",
       "95  0.8248418521018915  0.7134157163726719  Ear_right\n",
       "96  0.8239586646098369  0.7675190168773441  Ear_right\n",
       "97  0.8155149407204317  0.7135170163641819  Ear_right\n",
       "98  0.7856914234307533  0.6819138433217659  Ear_right\n",
       "99   0.708266829777928  0.7612342280212532  Ear_right\n",
       "\n",
       "[100 rows x 3 columns]"
      ]
     },
     "execution_count": 203,
     "metadata": {},
     "output_type": "execute_result"
    }
   ],
   "source": [
    "rightEar = rightEar.str.split(' ', expand=True)\n",
    "rightEar.reset_index(drop=True)"
   ]
  },
  {
   "cell_type": "code",
   "execution_count": 204,
   "id": "15f5a1fa",
   "metadata": {},
   "outputs": [],
   "source": [
    "df = head.append(leftEar, ignore_index=True)"
   ]
  },
  {
   "cell_type": "code",
   "execution_count": 205,
   "id": "7840afe2",
   "metadata": {},
   "outputs": [],
   "source": [
    "df = df.append(rightEar, ignore_index=True)"
   ]
  },
  {
   "cell_type": "code",
   "execution_count": 206,
   "id": "880cf780",
   "metadata": {},
   "outputs": [],
   "source": [
    "df.columns=['X1','X2','class']"
   ]
  },
  {
   "cell_type": "code",
   "execution_count": 207,
   "id": "e4808204",
   "metadata": {},
   "outputs": [
    {
     "data": {
      "text/plain": [
       "str"
      ]
     },
     "execution_count": 207,
     "metadata": {},
     "output_type": "execute_result"
    }
   ],
   "source": [
    "type(df['X1'][10])"
   ]
  },
  {
   "cell_type": "code",
   "execution_count": 208,
   "id": "7193a32b",
   "metadata": {},
   "outputs": [],
   "source": [
    "df['X1'] = df['X1'].astype('float64')"
   ]
  },
  {
   "cell_type": "code",
   "execution_count": 209,
   "id": "d5b3551a",
   "metadata": {},
   "outputs": [],
   "source": [
    "df['X2'] = df['X2'].astype('float64')"
   ]
  },
  {
   "cell_type": "code",
   "execution_count": 210,
   "id": "d0c9d552",
   "metadata": {},
   "outputs": [
    {
     "data": {
      "text/html": [
       "<div>\n",
       "<style scoped>\n",
       "    .dataframe tbody tr th:only-of-type {\n",
       "        vertical-align: middle;\n",
       "    }\n",
       "\n",
       "    .dataframe tbody tr th {\n",
       "        vertical-align: top;\n",
       "    }\n",
       "\n",
       "    .dataframe thead th {\n",
       "        text-align: right;\n",
       "    }\n",
       "</style>\n",
       "<table border=\"1\" class=\"dataframe\">\n",
       "  <thead>\n",
       "    <tr style=\"text-align: right;\">\n",
       "      <th></th>\n",
       "      <th>X1</th>\n",
       "      <th>X2</th>\n",
       "      <th>class</th>\n",
       "    </tr>\n",
       "  </thead>\n",
       "  <tbody>\n",
       "    <tr>\n",
       "      <th>0</th>\n",
       "      <td>0.456601</td>\n",
       "      <td>0.432806</td>\n",
       "      <td>Head</td>\n",
       "    </tr>\n",
       "    <tr>\n",
       "      <th>1</th>\n",
       "      <td>0.611378</td>\n",
       "      <td>0.528625</td>\n",
       "      <td>Head</td>\n",
       "    </tr>\n",
       "    <tr>\n",
       "      <th>2</th>\n",
       "      <td>0.450299</td>\n",
       "      <td>0.711606</td>\n",
       "      <td>Head</td>\n",
       "    </tr>\n",
       "    <tr>\n",
       "      <th>3</th>\n",
       "      <td>0.639015</td>\n",
       "      <td>0.460744</td>\n",
       "      <td>Head</td>\n",
       "    </tr>\n",
       "    <tr>\n",
       "      <th>4</th>\n",
       "      <td>0.628957</td>\n",
       "      <td>0.323470</td>\n",
       "      <td>Head</td>\n",
       "    </tr>\n",
       "    <tr>\n",
       "      <th>...</th>\n",
       "      <td>...</td>\n",
       "      <td>...</td>\n",
       "      <td>...</td>\n",
       "    </tr>\n",
       "    <tr>\n",
       "      <th>485</th>\n",
       "      <td>0.824842</td>\n",
       "      <td>0.713416</td>\n",
       "      <td>Ear_right</td>\n",
       "    </tr>\n",
       "    <tr>\n",
       "      <th>486</th>\n",
       "      <td>0.823959</td>\n",
       "      <td>0.767519</td>\n",
       "      <td>Ear_right</td>\n",
       "    </tr>\n",
       "    <tr>\n",
       "      <th>487</th>\n",
       "      <td>0.815515</td>\n",
       "      <td>0.713517</td>\n",
       "      <td>Ear_right</td>\n",
       "    </tr>\n",
       "    <tr>\n",
       "      <th>488</th>\n",
       "      <td>0.785691</td>\n",
       "      <td>0.681914</td>\n",
       "      <td>Ear_right</td>\n",
       "    </tr>\n",
       "    <tr>\n",
       "      <th>489</th>\n",
       "      <td>0.708267</td>\n",
       "      <td>0.761234</td>\n",
       "      <td>Ear_right</td>\n",
       "    </tr>\n",
       "  </tbody>\n",
       "</table>\n",
       "<p>490 rows × 3 columns</p>\n",
       "</div>"
      ],
      "text/plain": [
       "           X1        X2      class\n",
       "0    0.456601  0.432806       Head\n",
       "1    0.611378  0.528625       Head\n",
       "2    0.450299  0.711606       Head\n",
       "3    0.639015  0.460744       Head\n",
       "4    0.628957  0.323470       Head\n",
       "..        ...       ...        ...\n",
       "485  0.824842  0.713416  Ear_right\n",
       "486  0.823959  0.767519  Ear_right\n",
       "487  0.815515  0.713517  Ear_right\n",
       "488  0.785691  0.681914  Ear_right\n",
       "489  0.708267  0.761234  Ear_right\n",
       "\n",
       "[490 rows x 3 columns]"
      ]
     },
     "execution_count": 210,
     "metadata": {},
     "output_type": "execute_result"
    }
   ],
   "source": [
    "df"
   ]
  },
  {
   "cell_type": "code",
   "execution_count": 211,
   "id": "d5800cb7",
   "metadata": {},
   "outputs": [
    {
     "data": {
      "text/plain": [
       "numpy.float64"
      ]
     },
     "execution_count": 211,
     "metadata": {},
     "output_type": "execute_result"
    }
   ],
   "source": [
    "type(df['X1'][10])"
   ]
  },
  {
   "cell_type": "code",
   "execution_count": 212,
   "id": "d6c2993e",
   "metadata": {},
   "outputs": [
    {
     "data": {
      "text/plain": [
       "<matplotlib.collections.PathCollection at 0x1bd0808cb20>"
      ]
     },
     "execution_count": 212,
     "metadata": {},
     "output_type": "execute_result"
    },
    {
     "data": {
      "image/png": "[encoded data removed]",
      "text/plain": [
       "<Figure size 432x288 with 1 Axes>"
      ]
     },
     "metadata": {
      "needs_background": "light"
     },
     "output_type": "display_data"
    }
   ],
   "source": [
    "from matplotlib.colors import ListedColormap\n",
    "import matplotlib.pyplot as plt\n",
    "\n",
    "plt.scatter(df['X1'][df['class'] == 'Head'],\n",
    "            df['X2'][df['class'] == 'Head'],\n",
    "            c='b', marker='o',\n",
    "            label='1')\n",
    "plt.scatter(df['X1'][df['class'] == 'Ear_right'],\n",
    "            df['X2'][df['class'] == 'Ear_right'],\n",
    "            c='r', marker='o',\n",
    "            label='0')\n",
    "plt.scatter(df['X1'][df['class'] == 'Ear_left'],\n",
    "            df['X2'][df['class'] == 'Ear_left'],\n",
    "            c='c', marker='o',\n",
    "            label='0')"
   ]
  },
  {
   "cell_type": "code",
   "execution_count": 213,
   "id": "53529d02",
   "metadata": {},
   "outputs": [],
   "source": [
    "from sklearn.cluster import KMeans\n",
    "from sklearn import preprocessing\n",
    "\n",
    "le = preprocessing.LabelEncoder()\n",
    "le.fit(df['class'])\n",
    "y = le.transform(df['class'])\n",
    "df['class'] = y"
   ]
  },
  {
   "cell_type": "code",
   "execution_count": 214,
   "id": "79a0ca37",
   "metadata": {},
   "outputs": [
    {
     "data": {
      "text/html": [
       "<div>\n",
       "<style scoped>\n",
       "    .dataframe tbody tr th:only-of-type {\n",
       "        vertical-align: middle;\n",
       "    }\n",
       "\n",
       "    .dataframe tbody tr th {\n",
       "        vertical-align: top;\n",
       "    }\n",
       "\n",
       "    .dataframe thead th {\n",
       "        text-align: right;\n",
       "    }\n",
       "</style>\n",
       "<table border=\"1\" class=\"dataframe\">\n",
       "  <thead>\n",
       "    <tr style=\"text-align: right;\">\n",
       "      <th></th>\n",
       "      <th>X1</th>\n",
       "      <th>X2</th>\n",
       "      <th>class</th>\n",
       "    </tr>\n",
       "  </thead>\n",
       "  <tbody>\n",
       "    <tr>\n",
       "      <th>0</th>\n",
       "      <td>0.456601</td>\n",
       "      <td>0.432806</td>\n",
       "      <td>2</td>\n",
       "    </tr>\n",
       "    <tr>\n",
       "      <th>1</th>\n",
       "      <td>0.611378</td>\n",
       "      <td>0.528625</td>\n",
       "      <td>2</td>\n",
       "    </tr>\n",
       "    <tr>\n",
       "      <th>2</th>\n",
       "      <td>0.450299</td>\n",
       "      <td>0.711606</td>\n",
       "      <td>2</td>\n",
       "    </tr>\n",
       "    <tr>\n",
       "      <th>3</th>\n",
       "      <td>0.639015</td>\n",
       "      <td>0.460744</td>\n",
       "      <td>2</td>\n",
       "    </tr>\n",
       "    <tr>\n",
       "      <th>4</th>\n",
       "      <td>0.628957</td>\n",
       "      <td>0.323470</td>\n",
       "      <td>2</td>\n",
       "    </tr>\n",
       "    <tr>\n",
       "      <th>...</th>\n",
       "      <td>...</td>\n",
       "      <td>...</td>\n",
       "      <td>...</td>\n",
       "    </tr>\n",
       "    <tr>\n",
       "      <th>485</th>\n",
       "      <td>0.824842</td>\n",
       "      <td>0.713416</td>\n",
       "      <td>1</td>\n",
       "    </tr>\n",
       "    <tr>\n",
       "      <th>486</th>\n",
       "      <td>0.823959</td>\n",
       "      <td>0.767519</td>\n",
       "      <td>1</td>\n",
       "    </tr>\n",
       "    <tr>\n",
       "      <th>487</th>\n",
       "      <td>0.815515</td>\n",
       "      <td>0.713517</td>\n",
       "      <td>1</td>\n",
       "    </tr>\n",
       "    <tr>\n",
       "      <th>488</th>\n",
       "      <td>0.785691</td>\n",
       "      <td>0.681914</td>\n",
       "      <td>1</td>\n",
       "    </tr>\n",
       "    <tr>\n",
       "      <th>489</th>\n",
       "      <td>0.708267</td>\n",
       "      <td>0.761234</td>\n",
       "      <td>1</td>\n",
       "    </tr>\n",
       "  </tbody>\n",
       "</table>\n",
       "<p>490 rows × 3 columns</p>\n",
       "</div>"
      ],
      "text/plain": [
       "           X1        X2  class\n",
       "0    0.456601  0.432806      2\n",
       "1    0.611378  0.528625      2\n",
       "2    0.450299  0.711606      2\n",
       "3    0.639015  0.460744      2\n",
       "4    0.628957  0.323470      2\n",
       "..        ...       ...    ...\n",
       "485  0.824842  0.713416      1\n",
       "486  0.823959  0.767519      1\n",
       "487  0.815515  0.713517      1\n",
       "488  0.785691  0.681914      1\n",
       "489  0.708267  0.761234      1\n",
       "\n",
       "[490 rows x 3 columns]"
      ]
     },
     "execution_count": 214,
     "metadata": {},
     "output_type": "execute_result"
    }
   ],
   "source": [
    "df"
   ]
  },
  {
   "cell_type": "code",
   "execution_count": 215,
   "id": "7b20f59b",
   "metadata": {},
   "outputs": [],
   "source": [
    "X = df[['X1','X2']]"
   ]
  },
  {
   "cell_type": "code",
   "execution_count": 218,
   "id": "82d07aab",
   "metadata": {},
   "outputs": [
    {
     "data": {
      "image/png": "[encoded data removed]",
      "text/plain": [
       "<Figure size 432x288 with 1 Axes>"
      ]
     },
     "metadata": {
      "needs_background": "light"
     },
     "output_type": "display_data"
    }
   ],
   "source": [
    "kmeans = KMeans(n_clusters=3)\n",
    "\n",
    "label = kmeans.fit_predict(X)\n",
    "\n",
    "left = df[label==0]\n",
    "right = df[label==1]\n",
    "head = df[label==2]\n",
    "\n",
    "plt.scatter(left['X1'] , left['X2'] , color = 'c')\n",
    "plt.scatter(right['X1'] , right['X2'] , color = 'red')\n",
    "plt.scatter(head['X1'] , head['X2'] , color = 'blue')\n",
    "\n",
    "plt.show()"
   ]
  },
  {
   "cell_type": "code",
   "execution_count": null,
   "id": "09f816fb",
   "metadata": {},
   "outputs": [],
   "source": []
  },
  {
   "cell_type": "code",
   "execution_count": null,
   "id": "07955c7b",
   "metadata": {},
   "outputs": [],
   "source": []
  },
  {
   "cell_type": "code",
   "execution_count": null,
   "id": "a6fafee1",
   "metadata": {},
   "outputs": [],
   "source": []
  }
 ],
 "metadata": {
  "kernelspec": {
   "display_name": "Python 3 (ipykernel)",
   "language": "python",
   "name": "python3"
  },
  "language_info": {
   "codemirror_mode": {
    "name": "ipython",
    "version": 3
   },
   "file_extension": ".py",
   "mimetype": "text/x-python",
   "name": "python",
   "nbconvert_exporter": "python",
   "pygments_lexer": "ipython3",
   "version": "3.9.7"
  }
 },
 "nbformat": 4,
 "nbformat_minor": 5
}
